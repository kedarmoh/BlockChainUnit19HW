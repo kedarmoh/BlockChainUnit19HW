{
 "cells": [
  {
   "cell_type": "code",
   "execution_count": 50,
   "metadata": {},
   "outputs": [
    {
     "data": {
      "text/plain": [
       "True"
      ]
     },
     "execution_count": 50,
     "metadata": {},
     "output_type": "execute_result"
    }
   ],
   "source": [
    "import subprocess\n",
    "import json\n",
    "from web3 import Web3\n",
    "from web3.middleware import geth_poa_middleware\n",
    "from web3.gas_strategies.time_based import medium_gas_price_strategy\n",
    "from web3.middleware import geth_poa_middleware\n",
    "from dotenv import load_dotenv\n",
    "from bit import PrivateKeyTestnet \n",
    "from bit.network import NetworkAPI\n",
    "from web3.eth import Account\n",
    "from constants import *\n",
    "import os \n",
    "import web3\n",
    "load_dotenv()"
   ]
  },
  {
   "cell_type": "code",
   "execution_count": 51,
   "metadata": {},
   "outputs": [],
   "source": [
    "# , \"post vacuum mean vacuum patient stairs crop alcohol piano trend annual second\" \n",
    "menmonic  = os.getenv(\"MNEMONIC\")\n",
    "#print(menmonic)"
   ]
  },
  {
   "cell_type": "code",
   "execution_count": 53,
   "metadata": {},
   "outputs": [
    {
     "data": {
      "text/plain": [
       "True"
      ]
     },
     "execution_count": 53,
     "metadata": {},
     "output_type": "execute_result"
    }
   ],
   "source": [
    "w3 = Web3(Web3.HTTPProvider(\"http://127.0.0.1:8545\"))\n",
    "w3.middleware_onion.inject(geth_poa_middleware, layer=0)\n",
    "w3.isConnected()"
   ]
  },
  {
   "cell_type": "code",
   "execution_count": 55,
   "metadata": {},
   "outputs": [
    {
     "data": {
      "text/plain": [
       "0"
      ]
     },
     "execution_count": 55,
     "metadata": {},
     "output_type": "execute_result"
    }
   ],
   "source": [
    "# p = subprocess.Popen(command, stdout=subprocess.PIPE, shell=True)\n",
    "# output, err = p.communicate()\n",
    "# p_status = p.wait()\n",
    "# command = './derive -g --mnemonic=\"INSERT HERE\" --cols=path,address,privkey,pubkey --format=json'\n",
    "w3.eth.blockNumber\n",
    "w3.eth.getBalance(\"0x14E0a198B5DF4bbad89cbc94c1209248052c72db\")"
   ]
  },
  {
   "cell_type": "code",
   "execution_count": 36,
   "metadata": {},
   "outputs": [],
   "source": [
    "# print(output)"
   ]
  },
  {
   "cell_type": "code",
   "execution_count": 37,
   "metadata": {},
   "outputs": [],
   "source": [
    "def derive_wallets(menmonic, coin, numderive):\n",
    "    command = f'php ./hd-wallet-derive/hd-wallet-derive.php -g  --mnemonic={menmonic} --cols=path,address,privkey,pubkey --numderive={numderive} --coin={coin} --format=json'\n",
    "    p = subprocess.Popen(command, stdout=subprocess.PIPE, shell=True)\n",
    "    output, err = p.communicate()\n",
    "    p_status = p.wait()\n",
    "\n",
    "    print(output)\n",
    "    #print(err)\n",
    "    keys = json.loads(output)\n",
    "    return keys"
   ]
  },
  {
   "cell_type": "code",
   "execution_count": 38,
   "metadata": {},
   "outputs": [],
   "source": [
    "#keys = derive_wallets(menmonic, \"ETH\", 3)\n",
    "#print(keys)"
   ]
  },
  {
   "cell_type": "code",
   "execution_count": 39,
   "metadata": {},
   "outputs": [],
   "source": [
    "def priv_key_to_account(coin, priv_key):\n",
    "    if coin == 'eth':\n",
    "        return Account.privateKeyToAccount(priv_key)\n",
    "    elif coin == 'btc-test':\n",
    "        return PrivateKeyTestnet(priv_key)\n",
    "    else:\n",
    "        print('Cryptocoin is not valid')\n",
    "    return None"
   ]
  },
  {
   "cell_type": "code",
   "execution_count": 40,
   "metadata": {},
   "outputs": [],
   "source": [
    "def create_tx(coin, account, to, amount):\n",
    "    if coin == 'eth':\n",
    "        transaction_obj = {\n",
    "            'to': to,\n",
    "            'from': account,\n",
    "            'value':amount,\n",
    "            'gas':web3.eth.estimate_gas({\n",
    "                'to': to,\n",
    "                'from': account,\n",
    "                'value': amount\n",
    "            }),\n",
    "            'gasPrice': web3.eth.gas_price,\n",
    "            'nonce': web3.eth.get_transaction_count(web3.eth.coinbase),\n",
    "            'chainID': 577\n",
    "        }\n",
    "        return transaction_obj\n",
    "    elif coin == 'btc-test':\n",
    "        return PrivateKeyTestnet.prepare_transaction(account, [(to, amount, BTC)])\n",
    "    else:\n",
    "        print('Cryptocoin is not valid')\n",
    "        return None"
   ]
  },
  {
   "cell_type": "code",
   "execution_count": 41,
   "metadata": {},
   "outputs": [],
   "source": [
    "def sent_tx(coin, account, to, amount):\n",
    "    raw_transaction = create_tx(coin, account, to, amount)\n",
    "    if coin == 'eth':\n",
    "        signed_trans = web3.eth.sign_transaction(raw_transaction)\n",
    "        return web3.eth.sendRawTransaction(signed_trans)\n",
    "    elif coin == 'btc-test':\n",
    "        signed_trans = PrivateKeyTestnet.sign_transaction(raw_transaction)\n",
    "        return NetworkAPI.broadcast_tx_testnet(signed_trans)\n",
    "    else:\n",
    "        print('Cryptocoin is not valid')\n",
    "        return None"
   ]
  },
  {
   "cell_type": "code",
   "execution_count": 42,
   "metadata": {},
   "outputs": [
    {
     "name": "stdout",
     "output_type": "stream",
     "text": [
      "b\"\\n+-----------------+------------------------------------+-----------------------------------------------------------------------------------------------------------------+-----------------------------------------------------------------------------------------------------------------+------------------------------------------------------+--------------------------------------------------------------------+------------------------------------------+-------+\\n| path            | address                            | xprv                                                                                                            | xpub                                                                                                            | privkey                                              | pubkey                                                             | pubkeyhash                               | index |\\n+-----------------+------------------------------------+-----------------------------------------------------------------------------------------------------------------+-----------------------------------------------------------------------------------------------------------------+------------------------------------------------------+--------------------------------------------------------------------+------------------------------------------+-------+\\n| m/44'/0'/0'/0/0 | 1LX6ogcXM5j9CFCnQTVicKYeyFAReWsZaD | xprvA3nGetuF2xDDwHzpR7D7TV3zbtR9fESjiETAGQoBMnnb33w3WfZuvgW3BDRvhonaCh73fjQc9WiEtH9DHSouidodnQ3HfxCnUJJnkCdNR3Q | xpub6Gmd4QS8sKmX9n5HX8k7pczj9vFe4hAb5TNm4oCnv8KZurGC4CtAUUpX2UDNw4C3bMP5ag7szww9EThuVqLeypyqz5vQMoUvLGB3Ak5D6V6 | KzmW8fYo9q34NiwPsUy3X8GCrAvDKeDoaZR2Uik2LG7Zq52FCU7Z | 02495d95225757d83cac5fd70948a45726b16dff194a7fa18dc5cb89a6f3d9e9b1 | d61bb6e3daf10c80c4ad524c5fe91f23f8f7ae1a |     0 |\\n| m/44'/0'/0'/0/1 | 1A9kJHBpZ2oLJ2o7XdK3jBSp2oeBgWqpTK | xprvA3nGetuF2xDDynQ8aQe23Uf3qf9XPLQcf4XugtdPpPqoVNPPFW494PwWaEMkJrftN31EariTLVHY8oURGnAcLbfe6mw5CjkvZm8Rrmby4u3 | xpub6Gmd4QS8sKmXCGUbgSB2QcbnPgz1no8U2HTWVH31NjNnNAiXo3NPcCFzRWjqQMRgNYzDM6jD76qcWe5927snTNVWtV951iriLnC13Kw2VR4 | L2hf4iJhfQ9t9LfvfpPM78oqKxDZuFQcKEnJ6Bug3LTHbKL2ErLE | 035566fff303c4e2c38fb66f7727cf5cb6db6ee0c47cbfbe2b5963fdc992fe9bb7 | 64609a6006339f34c39dca85c59328c2073dd1fa |     1 |\\n| m/44'/0'/0'/0/2 | 1KqanQNpUb8wo57jEVpcFkENMY9biPB6hT | xprvA3nGetuF2xDE1Ku4h7PXp5UbCXQj4Kf9whRNFV3YpZnMuXB3Kt1n28GJvipVAPVuWwJZWWdZSJ2XDCVWzJoi3eC3Lj6q1VS3s4C6ydfsd6s | xpub6Gmd4QS8sKmXDoyXo8vYBDRKkZFDTnP1JvLy3sTANuKLnKWBsRL2Zvann1c5maoXqCJuU8BnhLGTk4ab9MYR1TwqwNmPPPorNZgVwEV1CYn | KzzEgRQBm3tCwBvTExdenKXAZ6MKYZKuCNgL4ctkyuVRz91mDJqs | 0357a2ea1f057886acbe97013741cfca855afa4bd6784e34ce964e2308229afd03 | cea26e4542b9e6e0c3bd81004d5fc342938102bc |     2 |\\n| m/44'/0'/0'/0/3 | 15MxEbFZ8JhXdtXBirrtr755oQnQjuLjUH | xprvA3nGetuF2xDE2vv1pBfv9mroYXE4MfzHP7S2trWAQVQ23pJwZQ8MGBsARN4w8sVwX1BAeg9E9etGVGrKXztCCqzaLTdpNjDm8ghLKvkEAU7 | xpub6Gmd4QS8sKmXFQzUvDCvWuoY6Z4Ym8i8kLMdhEumxpvzvce66wSbozBeGdom6oPWxLc9XCKqijBsTjNhQoa7PUdB4bt5chyc9XGeAh5CF1s | L5dmw3NWndpUqjJf7wpL1m5aEZy2d58XVQbsBrXu6XPsrrk1dSwY | 03584ff4fc251e2b676e14b4934e3c4ea0b976e5ee6d28abd0566f67532209b272 | 2fd6edfe202d32fa58f80c282aaa6e62112a268c |     3 |\\n| m/44'/0'/0'/0/4 | 1J2xhfmqXDWUYEyP2oViUQq4K8mk8PbVvm | xprvA3nGetuF2xDE5rkYLMLdv5QDrrRjMKvh7fwYXFBgYTq2DgFvPCUTKJDR6G3Vu78fQjRbfKu4UvBQjuAkG3NP19VZ5kgjDemGvVUXSvhuJHU | xpub6Gmd4QS8sKmXJLq1SNseHDLxQtGDkneYUts9KdbJ6oN16Ub4vjnhs6XtwYQES6Mcj8Lcqu831xf3VWGDPVoXARENkU1ieYXykaXs28beKqH | Kymx4s5haQAeCviK1j2dKU8LGcnpeL5jzEaBraD1WVbTetpTKxst | 02fb05eea7cfbba8c421d4b23a41283f8e38f0d8e43eb34a528594768d57ad633c | bad90d215db1bc1ef18b10aa51ce7ab17a97efff |     4 |\\n| m/44'/0'/0'/0/5 | 1P3a1jzQmpZrY1fu1e3KQAawgrbKpgyCdt | xprvA3nGetuF2xDE8s4bYKmU1Did4FA7N2GPHWodyBvX9Ya733mz4dxEKhRrZuyGchhfD1bMimFCY8TmkiXBig8ydeLxAbJugnpfELkdC4pUDiM | xpub6Gmd4QS8sKmXMM94eMJUNMfMcGzbmUzEejjEmaL8ht75ur78cBGUsVkLRCQcW9zaJx4qSVQPs4KfSLvUKpqwpJJwSxXtLYUnVtSW2NsrVyg | KxBzKLxjveinzPrGPmKU7ksWyZzPtUAU3CJeGAnsG9Q3L7YLYngJ | 02d62e6ce8322b43dc2881e0f47af0772e11ca16171626ebbfd7706a904e4bd3c6 | f1cf282721eec97b037f3b752204e7ee5495d162 |     5 |\\n| m/44'/0'/0'/0/6 | 1HM1veFjWBnVB9Uu7hsU13SRTQr6L9ZrEL | xprvA3nGetuF2xDEAp4a3zd8vunVEgR6cqfqzXUYUhRFoFcobW7nb2eJwfXwibxLWZJ49qR53d5Pp9AkH6i1rzrB36F8tJqUjkWE6q1tNeAu2jq | xpub6Gmd4QS8sKmXPJ93A2A9J3jDniFb2JPhMkQ9H5psMb9nUJSw8ZxZVTrRZujKtRpMJfwZVWjjwLMFzQcSuvu595hCYhgpFmZPKYohqftBD8U | L1BBbaPLxd9b6vtP3mmBAYnSiScsFRRhzFhgpvNyf9x3BrmzPU3h | 03df95b237990c1451f267097b2ab7672fc6567431e5b19ee320451ca56c150b0d | b34b1a93babfad9eb0117d2a13f0bbce5f407378 |     6 |\\n| m/44'/0'/0'/0/7 | 13h1jbBknK2GLvbtv3AXohLQWyJ9FAT2rW | xprvA3nGetuF2xDEDH7xamJKdCnbFAvWieXKjMrMAZSPHdtkzWqnrL67FXyTHDagtbftqcjUJ9zfUP5UEzrUYP8Ak4TWWnm3V7oY9pdSkzUFxTj | xpub6Gmd4QS8sKmXRmCRgnqKzLjKoCm187FB6amwxwqzqyRjsKAwPsQMoLHw8WEUVZxHepQfUYLev5ARniobSvpHfLS7AoVN6Fztbtig87FZAny | L43tAowoZdmuCAVhfeewANNThzmmHKFEAVeN5j2aYGjHKmMznq64 | 03a14a3794986a58a4aed85ea887e5d8a4daecbf420549d16ae11a1394586c482e | 1d8180c4bc6eb27b90a3978da56dcb97f230cc54 |     7 |\\n| m/44'/0'/0'/0/8 | 13DQo1Ruo9xo44zju16myW7tcWCyGtt5H9 | xprvA3nGetuF2xDEHFahNVqpTxnk7KdPnZUZudPPHR71B72k9zrBpmjLUsUW5FqcPCZD1Wtrefw9YFaHdx3DaYLTME8P3o2bg4b5GMiNYok2RfZ | xpub6Gmd4QS8sKmXVjfAUXNpq6jUfMTtC2CRGrJz5oWcjSZj2oBLNK3b2fnyvXuXXoujavucDWPsv4Po5upwXgrmB2dGrWy4CstCFCyrZcdffZ7 | KwFz9SsJt2vuQ2X2T2f5t1sSReUvkogtjsGb4dcqtNGbLYt3yk2f | 0289bfa68cf6f71d7b5e02837806b14da17b732f5777ab43fe4a849717366080bd | 18491acd7f5b2d19d700da1f3290a3771b777d13 |     8 |\\n| m/44'/0'/0'/0/9 | 18Cs5sBdxUeQR5rQT6uFjzJjaGe9mjecJ8 | xprvA3nGetuF2xDEHtj9ynL3abxYm4Ppeq196K7XyuejHaQswJ1kNafN232dDuCH9SpcU56HU4mcv8PGQchXsuTwqperCfyApRZQM3T245Gov8A | xpub6Gmd4QS8sKmXWNod5os3wjuHK6EK4HizTY38nJ4Lquwrp6Ltv7ycZqM75ANmZU9LyHjejf8TLZAi1Btg9oUhvzbP1uAqbYuT4boAzJkHgaL | Kwr2njFiAMYe2L3b29UUW5X5j7aDq9Ne9JG6NpXrzJ3KKtjpau5r | 02267e2f72c20698426b0be74ae0f50c5d826caf9d8d801cca08c2f3ea1e5f3eda | 4f0743949df909dc8592e8013cef4d3051a73a0d |     9 |\\n+-----------------+------------------------------------+-----------------------------------------------------------------------------------------------------------------+-----------------------------------------------------------------------------------------------------------------+------------------------------------------------------+--------------------------------------------------------------------+------------------------------------------+-------+\\n\\n\"\n"
     ]
    },
    {
     "ename": "JSONDecodeError",
     "evalue": "Expecting value: line 2 column 1 (char 1)",
     "output_type": "error",
     "traceback": [
      "\u001b[1;31m---------------------------------------------------------------------------\u001b[0m",
      "\u001b[1;31mJSONDecodeError\u001b[0m                           Traceback (most recent call last)",
      "\u001b[1;32m<ipython-input-42-80fbde6d9cc2>\u001b[0m in \u001b[0;36m<module>\u001b[1;34m\u001b[0m\n\u001b[0;32m      1\u001b[0m coins = {\n\u001b[1;32m----> 2\u001b[1;33m     \u001b[1;34m'eth'\u001b[0m\u001b[1;33m:\u001b[0m \u001b[0mderive_wallets\u001b[0m\u001b[1;33m(\u001b[0m\u001b[0mmenmonic\u001b[0m\u001b[1;33m,\u001b[0m \u001b[1;34m'eth'\u001b[0m\u001b[1;33m,\u001b[0m \u001b[1;36m3\u001b[0m\u001b[1;33m)\u001b[0m\u001b[1;33m,\u001b[0m\u001b[1;33m\u001b[0m\u001b[1;33m\u001b[0m\u001b[0m\n\u001b[0m\u001b[0;32m      3\u001b[0m     \u001b[1;34m'btc-test'\u001b[0m\u001b[1;33m:\u001b[0m \u001b[0mderive_wallets\u001b[0m\u001b[1;33m(\u001b[0m\u001b[0mmenmonic\u001b[0m\u001b[1;33m,\u001b[0m \u001b[1;34m'btc-test'\u001b[0m\u001b[1;33m,\u001b[0m \u001b[1;36m3\u001b[0m\u001b[1;33m)\u001b[0m\u001b[1;33m\u001b[0m\u001b[1;33m\u001b[0m\u001b[0m\n\u001b[0;32m      4\u001b[0m }\n",
      "\u001b[1;32m<ipython-input-37-662d04e488bc>\u001b[0m in \u001b[0;36mderive_wallets\u001b[1;34m(menmonic, coin, numderive)\u001b[0m\n\u001b[0;32m      7\u001b[0m     \u001b[0mprint\u001b[0m\u001b[1;33m(\u001b[0m\u001b[0moutput\u001b[0m\u001b[1;33m)\u001b[0m\u001b[1;33m\u001b[0m\u001b[1;33m\u001b[0m\u001b[0m\n\u001b[0;32m      8\u001b[0m     \u001b[1;31m#print(err)\u001b[0m\u001b[1;33m\u001b[0m\u001b[1;33m\u001b[0m\u001b[1;33m\u001b[0m\u001b[0m\n\u001b[1;32m----> 9\u001b[1;33m     \u001b[0mkeys\u001b[0m \u001b[1;33m=\u001b[0m \u001b[0mjson\u001b[0m\u001b[1;33m.\u001b[0m\u001b[0mloads\u001b[0m\u001b[1;33m(\u001b[0m\u001b[0moutput\u001b[0m\u001b[1;33m)\u001b[0m\u001b[1;33m\u001b[0m\u001b[1;33m\u001b[0m\u001b[0m\n\u001b[0m\u001b[0;32m     10\u001b[0m     \u001b[1;32mreturn\u001b[0m \u001b[0mkeys\u001b[0m\u001b[1;33m\u001b[0m\u001b[1;33m\u001b[0m\u001b[0m\n",
      "\u001b[1;32m~\\anaconda3\\envs\\ethereum\\lib\\json\\__init__.py\u001b[0m in \u001b[0;36mloads\u001b[1;34m(s, encoding, cls, object_hook, parse_float, parse_int, parse_constant, object_pairs_hook, **kw)\u001b[0m\n\u001b[0;32m    346\u001b[0m             \u001b[0mparse_int\u001b[0m \u001b[1;32mis\u001b[0m \u001b[1;32mNone\u001b[0m \u001b[1;32mand\u001b[0m \u001b[0mparse_float\u001b[0m \u001b[1;32mis\u001b[0m \u001b[1;32mNone\u001b[0m \u001b[1;32mand\u001b[0m\u001b[1;33m\u001b[0m\u001b[1;33m\u001b[0m\u001b[0m\n\u001b[0;32m    347\u001b[0m             parse_constant is None and object_pairs_hook is None and not kw):\n\u001b[1;32m--> 348\u001b[1;33m         \u001b[1;32mreturn\u001b[0m \u001b[0m_default_decoder\u001b[0m\u001b[1;33m.\u001b[0m\u001b[0mdecode\u001b[0m\u001b[1;33m(\u001b[0m\u001b[0ms\u001b[0m\u001b[1;33m)\u001b[0m\u001b[1;33m\u001b[0m\u001b[1;33m\u001b[0m\u001b[0m\n\u001b[0m\u001b[0;32m    349\u001b[0m     \u001b[1;32mif\u001b[0m \u001b[0mcls\u001b[0m \u001b[1;32mis\u001b[0m \u001b[1;32mNone\u001b[0m\u001b[1;33m:\u001b[0m\u001b[1;33m\u001b[0m\u001b[1;33m\u001b[0m\u001b[0m\n\u001b[0;32m    350\u001b[0m         \u001b[0mcls\u001b[0m \u001b[1;33m=\u001b[0m \u001b[0mJSONDecoder\u001b[0m\u001b[1;33m\u001b[0m\u001b[1;33m\u001b[0m\u001b[0m\n",
      "\u001b[1;32m~\\anaconda3\\envs\\ethereum\\lib\\json\\decoder.py\u001b[0m in \u001b[0;36mdecode\u001b[1;34m(self, s, _w)\u001b[0m\n\u001b[0;32m    335\u001b[0m \u001b[1;33m\u001b[0m\u001b[0m\n\u001b[0;32m    336\u001b[0m         \"\"\"\n\u001b[1;32m--> 337\u001b[1;33m         \u001b[0mobj\u001b[0m\u001b[1;33m,\u001b[0m \u001b[0mend\u001b[0m \u001b[1;33m=\u001b[0m \u001b[0mself\u001b[0m\u001b[1;33m.\u001b[0m\u001b[0mraw_decode\u001b[0m\u001b[1;33m(\u001b[0m\u001b[0ms\u001b[0m\u001b[1;33m,\u001b[0m \u001b[0midx\u001b[0m\u001b[1;33m=\u001b[0m\u001b[0m_w\u001b[0m\u001b[1;33m(\u001b[0m\u001b[0ms\u001b[0m\u001b[1;33m,\u001b[0m \u001b[1;36m0\u001b[0m\u001b[1;33m)\u001b[0m\u001b[1;33m.\u001b[0m\u001b[0mend\u001b[0m\u001b[1;33m(\u001b[0m\u001b[1;33m)\u001b[0m\u001b[1;33m)\u001b[0m\u001b[1;33m\u001b[0m\u001b[1;33m\u001b[0m\u001b[0m\n\u001b[0m\u001b[0;32m    338\u001b[0m         \u001b[0mend\u001b[0m \u001b[1;33m=\u001b[0m \u001b[0m_w\u001b[0m\u001b[1;33m(\u001b[0m\u001b[0ms\u001b[0m\u001b[1;33m,\u001b[0m \u001b[0mend\u001b[0m\u001b[1;33m)\u001b[0m\u001b[1;33m.\u001b[0m\u001b[0mend\u001b[0m\u001b[1;33m(\u001b[0m\u001b[1;33m)\u001b[0m\u001b[1;33m\u001b[0m\u001b[1;33m\u001b[0m\u001b[0m\n\u001b[0;32m    339\u001b[0m         \u001b[1;32mif\u001b[0m \u001b[0mend\u001b[0m \u001b[1;33m!=\u001b[0m \u001b[0mlen\u001b[0m\u001b[1;33m(\u001b[0m\u001b[0ms\u001b[0m\u001b[1;33m)\u001b[0m\u001b[1;33m:\u001b[0m\u001b[1;33m\u001b[0m\u001b[1;33m\u001b[0m\u001b[0m\n",
      "\u001b[1;32m~\\anaconda3\\envs\\ethereum\\lib\\json\\decoder.py\u001b[0m in \u001b[0;36mraw_decode\u001b[1;34m(self, s, idx)\u001b[0m\n\u001b[0;32m    353\u001b[0m             \u001b[0mobj\u001b[0m\u001b[1;33m,\u001b[0m \u001b[0mend\u001b[0m \u001b[1;33m=\u001b[0m \u001b[0mself\u001b[0m\u001b[1;33m.\u001b[0m\u001b[0mscan_once\u001b[0m\u001b[1;33m(\u001b[0m\u001b[0ms\u001b[0m\u001b[1;33m,\u001b[0m \u001b[0midx\u001b[0m\u001b[1;33m)\u001b[0m\u001b[1;33m\u001b[0m\u001b[1;33m\u001b[0m\u001b[0m\n\u001b[0;32m    354\u001b[0m         \u001b[1;32mexcept\u001b[0m \u001b[0mStopIteration\u001b[0m \u001b[1;32mas\u001b[0m \u001b[0merr\u001b[0m\u001b[1;33m:\u001b[0m\u001b[1;33m\u001b[0m\u001b[1;33m\u001b[0m\u001b[0m\n\u001b[1;32m--> 355\u001b[1;33m             \u001b[1;32mraise\u001b[0m \u001b[0mJSONDecodeError\u001b[0m\u001b[1;33m(\u001b[0m\u001b[1;34m\"Expecting value\"\u001b[0m\u001b[1;33m,\u001b[0m \u001b[0ms\u001b[0m\u001b[1;33m,\u001b[0m \u001b[0merr\u001b[0m\u001b[1;33m.\u001b[0m\u001b[0mvalue\u001b[0m\u001b[1;33m)\u001b[0m \u001b[1;32mfrom\u001b[0m \u001b[1;32mNone\u001b[0m\u001b[1;33m\u001b[0m\u001b[1;33m\u001b[0m\u001b[0m\n\u001b[0m\u001b[0;32m    356\u001b[0m         \u001b[1;32mreturn\u001b[0m \u001b[0mobj\u001b[0m\u001b[1;33m,\u001b[0m \u001b[0mend\u001b[0m\u001b[1;33m\u001b[0m\u001b[1;33m\u001b[0m\u001b[0m\n",
      "\u001b[1;31mJSONDecodeError\u001b[0m: Expecting value: line 2 column 1 (char 1)"
     ]
    }
   ],
   "source": [
    "coins = {\n",
    "    'eth': derive_wallets(menmonic, 'eth', 3),\n",
    "    'btc-test': derive_wallets(menmonic, 'btc-test', 3)\n",
    "}"
   ]
  },
  {
   "cell_type": "code",
   "execution_count": null,
   "metadata": {},
   "outputs": [],
   "source": [
    "print "
   ]
  },
  {
   "cell_type": "code",
   "execution_count": null,
   "metadata": {},
   "outputs": [],
   "source": []
  }
 ],
 "metadata": {
  "kernelspec": {
   "display_name": "Python 3",
   "language": "python",
   "name": "python3"
  },
  "language_info": {
   "codemirror_mode": {
    "name": "ipython",
    "version": 3
   },
   "file_extension": ".py",
   "mimetype": "text/x-python",
   "name": "python",
   "nbconvert_exporter": "python",
   "pygments_lexer": "ipython3",
   "version": "3.7.9"
  }
 },
 "nbformat": 4,
 "nbformat_minor": 4
}
